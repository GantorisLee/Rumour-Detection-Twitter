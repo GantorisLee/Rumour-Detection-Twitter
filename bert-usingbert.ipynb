{
 "cells": [
  {
   "cell_type": "code",
   "execution_count": 2,
   "metadata": {},
   "outputs": [],
   "source": [
    "import pandas as pd\n",
    "train_file = \"train.data.txt\"\n",
    "dev_file = \"dev.data.txt\"\n",
    "test_file = \"test.data.txt\"\n",
    "\n",
    "\n",
    "train_data = pd.read_csv('./%s.csv'%train_file,keep_default_na=False)\n",
    "dev_data = pd.read_csv('./%s.csv'%dev_file,keep_default_na=False)\n",
    "test_data = pd.read_csv('./%s.csv'%test_file,keep_default_na=False)"
   ]
  },
  {
   "cell_type": "code",
   "execution_count": 3,
   "metadata": {},
   "outputs": [
    {
     "name": "stderr",
     "output_type": "stream",
     "text": [
      "2022-05-02 00:28:45.753169: I tensorflow/core/platform/cpu_feature_guard.cc:151] This TensorFlow binary is optimized with oneAPI Deep Neural Network Library (oneDNN) to use the following CPU instructions in performance-critical operations:  SSE4.2 AVX AVX2 FMA\n",
      "To enable them in other operations, rebuild TensorFlow with the appropriate compiler flags.\n",
      "2022-05-02 00:28:45.753985: I tensorflow/core/common_runtime/pluggable_device/pluggable_device_factory.cc:305] Could not identify NUMA node of platform GPU ID 0, defaulting to 0. Your kernel may not have been built with NUMA support.\n",
      "2022-05-02 00:28:45.754223: I tensorflow/core/common_runtime/pluggable_device/pluggable_device_factory.cc:271] Created TensorFlow device (/job:localhost/replica:0/task:0/device:GPU:0 with 0 MB memory) -> physical PluggableDevice (device: 0, name: METAL, pci bus id: <undefined>)\n"
     ]
    },
    {
     "name": "stdout",
     "output_type": "stream",
     "text": [
      "Metal device set to: AMD Radeon Pro 555\n",
      "\n",
      "systemMemory: 16.00 GB\n",
      "maxCacheSize: 1.00 GB\n",
      "\n"
     ]
    },
    {
     "name": "stderr",
     "output_type": "stream",
     "text": [
      "2022-05-02 00:28:48.261155: I tensorflow/core/grappler/optimizers/custom_graph_optimizer_registry.cc:113] Plugin optimizer for device_type GPU is enabled.\n"
     ]
    },
    {
     "name": "stdout",
     "output_type": "stream",
     "text": [
      "Model: \"model\"\n",
      "__________________________________________________________________________________________________\n",
      " Layer (type)                   Output Shape         Param #     Connected to                     \n",
      "==================================================================================================\n",
      " text (InputLayer)              [(None,)]            0           []                               \n",
      "                                                                                                  \n",
      " keras_layer (KerasLayer)       {'input_word_ids':   0           ['text[0][0]']                   \n",
      "                                (None, 128),                                                      \n",
      "                                 'input_type_ids':                                                \n",
      "                                (None, 128),                                                      \n",
      "                                 'input_mask': (Non                                               \n",
      "                                e, 128)}                                                          \n",
      "                                                                                                  \n",
      " keras_layer_1 (KerasLayer)     {'pooled_output': (  177853441   ['keras_layer[0][0]',            \n",
      "                                None, 768),                       'keras_layer[0][1]',            \n",
      "                                 'default': (None,                'keras_layer[0][2]']            \n",
      "                                768),                                                             \n",
      "                                 'sequence_output':                                               \n",
      "                                 (None, 128, 768),                                                \n",
      "                                 'encoder_outputs':                                               \n",
      "                                 [(None, 128, 768),                                               \n",
      "                                 (None, 128, 768),                                                \n",
      "                                 (None, 128, 768),                                                \n",
      "                                 (None, 128, 768),                                                \n",
      "                                 (None, 128, 768),                                                \n",
      "                                 (None, 128, 768),                                                \n",
      "                                 (None, 128, 768),                                                \n",
      "                                 (None, 128, 768),                                                \n",
      "                                 (None, 128, 768),                                                \n",
      "                                 (None, 128, 768),                                                \n",
      "                                 (None, 128, 768),                                                \n",
      "                                 (None, 128, 768)]}                                               \n",
      "                                                                                                  \n",
      " dropout (Dropout)              (None, 768)          0           ['keras_layer_1[0][13]']         \n",
      "                                                                                                  \n",
      " classifier (Dense)             (None, 1)            769         ['dropout[0][0]']                \n",
      "                                                                                                  \n",
      "==================================================================================================\n",
      "Total params: 177,854,210\n",
      "Trainable params: 769\n",
      "Non-trainable params: 177,853,441\n",
      "__________________________________________________________________________________________________\n",
      "Epoch 1/10\n"
     ]
    },
    {
     "name": "stderr",
     "output_type": "stream",
     "text": [
      "2022-05-02 00:29:11.139023: I tensorflow/core/grappler/optimizers/custom_graph_optimizer_registry.cc:113] Plugin optimizer for device_type GPU is enabled.\n"
     ]
    },
    {
     "name": "stdout",
     "output_type": "stream",
     "text": [
      "79/79 [==============================] - ETA: 0s - loss: 0.9637 - accuracy: 0.7403"
     ]
    },
    {
     "name": "stderr",
     "output_type": "stream",
     "text": [
      "2022-05-02 00:34:44.356010: I tensorflow/core/grappler/optimizers/custom_graph_optimizer_registry.cc:113] Plugin optimizer for device_type GPU is enabled.\n"
     ]
    },
    {
     "name": "stdout",
     "output_type": "stream",
     "text": [
      "79/79 [==============================] - 456s 6s/step - loss: 0.9637 - accuracy: 0.7403 - val_loss: 0.7583 - val_accuracy: 0.7907\n",
      "Epoch 2/10\n",
      "79/79 [==============================] - 441s 6s/step - loss: 0.6844 - accuracy: 0.7677 - val_loss: 0.8644 - val_accuracy: 0.7626\n",
      "Epoch 3/10\n",
      "79/79 [==============================] - 433s 5s/step - loss: 0.7078 - accuracy: 0.6943 - val_loss: 0.5616 - val_accuracy: 0.7364\n",
      "Epoch 4/10\n",
      "79/79 [==============================] - 428s 5s/step - loss: 0.9112 - accuracy: 0.7147 - val_loss: 0.4975 - val_accuracy: 0.7907\n",
      "Epoch 5/10\n",
      "79/79 [==============================] - 427s 5s/step - loss: 0.5828 - accuracy: 0.8009 - val_loss: 0.6720 - val_accuracy: 0.7925\n",
      "Epoch 6/10\n",
      "79/79 [==============================] - 429s 5s/step - loss: 0.4980 - accuracy: 0.7977 - val_loss: 0.5889 - val_accuracy: 0.7925\n",
      "Epoch 7/10\n",
      "79/79 [==============================] - 430s 5s/step - loss: 0.4889 - accuracy: 0.8054 - val_loss: 0.5222 - val_accuracy: 0.7869\n",
      "Epoch 8/10\n",
      "79/79 [==============================] - 432s 5s/step - loss: 8.2311 - accuracy: 0.3816 - val_loss: 11.0601 - val_accuracy: 0.2411\n",
      "Epoch 9/10\n",
      "79/79 [==============================] - 429s 5s/step - loss: 5.0914 - accuracy: 0.6075 - val_loss: 3.2676 - val_accuracy: 0.7850\n",
      "Epoch 10/10\n",
      "79/79 [==============================] - 429s 5s/step - loss: 2.4705 - accuracy: 0.7939 - val_loss: 0.5731 - val_accuracy: 0.7720\n",
      "17/17 [==============================] - 103s 6s/step - loss: 0.5731 - accuracy: 0.7720\n"
     ]
    },
    {
     "data": {
      "text/plain": [
       "[0.5731379985809326, 0.771962583065033]"
      ]
     },
     "execution_count": 3,
     "metadata": {},
     "output_type": "execute_result"
    }
   ],
   "source": [
    "# !pip install --upgrade tensorflow-hub\n",
    "import tensorflow_hub as hub\n",
    "import tensorflow_text as text\n",
    "import tensorflow as tf\n",
    "import numpy as np\n",
    "from sklearn.preprocessing import LabelEncoder\n",
    "\n",
    "# preprocessor = hub.KerasLayer(\"https://tfhub.dev/tensorflow/bert_multi_cased_preprocess/3\")\n",
    "# bert_model = hub.KerasLayer(\"https://tfhub.dev/tensorflow/bert_multi_cased_L-12_H-768_A-12/3\")\n",
    "\n",
    "le = LabelEncoder()\n",
    "def preprocess_token(df, dropNa=True):\n",
    "    data = df.copy()\n",
    "    data['main_tweet'] = data['main_tweet'].fillna('')\n",
    "    if dropNa:\n",
    "        data.replace('', np.nan, inplace=True)\n",
    "        data.dropna(subset=['main_tweet'], inplace=True)\n",
    "    return data\n",
    "\n",
    "train_data = preprocess_token(train_data)\n",
    "train_label = le.fit_transform(train_data['label'])\n",
    "dev_data = preprocess_token(dev_data)\n",
    "dev_label = le.transform(dev_data['label'])\n",
    "\n",
    "text_input = tf.keras.layers.Input(shape=(), dtype=tf.string, name='text')\n",
    "preprocessing_layer = hub.KerasLayer(\"https://tfhub.dev/tensorflow/bert_multi_cased_preprocess/3\")\n",
    "encoder_inputs = preprocessing_layer(text_input)\n",
    "encoder = hub.KerasLayer(\"https://tfhub.dev/tensorflow/bert_multi_cased_L-12_H-768_A-12/3\", trainable=True)\n",
    "outputs = encoder(encoder_inputs)\n",
    "net = outputs['pooled_output']\n",
    "net = tf.keras.layers.Dropout(0.1)(net)\n",
    "net = tf.keras.layers.Dense(1, activation=None, name='classifier')(net)\n",
    "model = tf.keras.Model(inputs=text_input, outputs=net)\n",
    "model.compile(optimizer='adam', loss='binary_crossentropy', metrics=['accuracy'])\n",
    "model.summary()\n",
    "train = tf.constant(train_data['main_tweet'].values.tolist())\n",
    "dev = tf.constant(dev_data['main_tweet'].values.tolist())\n",
    "model.fit(train, train_label, validation_data=(dev, dev_label), epochs=10, batch_size=20)\n",
    "model.evaluate(dev, dev_label)"
   ]
  }
 ],
 "metadata": {
  "interpreter": {
   "hash": "c568c11536c468db92cc2152f72bb087550d740e412a4a332b4e9cdb4eb1d017"
  },
  "kernelspec": {
   "display_name": "Python 3.8.9 64-bit",
   "language": "python",
   "name": "python3"
  },
  "language_info": {
   "codemirror_mode": {
    "name": "ipython",
    "version": 3
   },
   "file_extension": ".py",
   "mimetype": "text/x-python",
   "name": "python",
   "nbconvert_exporter": "python",
   "pygments_lexer": "ipython3",
   "version": "3.8.9"
  },
  "orig_nbformat": 4
 },
 "nbformat": 4,
 "nbformat_minor": 2
}
