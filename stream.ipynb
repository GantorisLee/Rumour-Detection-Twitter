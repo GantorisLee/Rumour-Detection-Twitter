{
 "cells": [
  {
   "cell_type": "code",
   "execution_count": 1,
   "metadata": {},
   "outputs": [
    {
     "name": "stdout",
     "output_type": "stream",
     "text": [
      "Response(data=[StreamRule(value='covid lang:en', tag=None, id='1518117218420092928')], includes={}, errors=[], meta={'sent': '2022-04-24T06:38:45.126Z', 'result_count': 1})\n",
      "<Tweet id=1518117191681515521 text='@rolandsmartin Roland, please contact a mental health professional ASAP!'>\n",
      "<Tweet id=1518117191736037379 text=\"RT @EricTopol: When drugs work really well to avoid Covid hospitalizations and deaths, but patients can't get them\\nhttps://t.co/9CtWravyDG…\">\n",
      "<Tweet id=1518117191790391296 text='RT @Sassychickie: Psaki says, they are appealing the mask mandate, because they want to keep CDC, with the authority to impose a mask manda…'>\n",
      "<Tweet id=1518117190880227328 text=\"RT @iDropsUSA: My oldest son didn't want the vax but got it because his job said he had to.. so he complied. He's been in and out of the ER…\">\n",
      "<Tweet id=1518117194449956866 text='RT @bunnyxastronaut: 🐰: I want to go to Shanghai, but we cant go now (COVID), I like it because of the vibe and the weather is like Thailan…'>\n",
      "<Tweet id=1518117198350282752 text=\"RT @PhilippineStar: The world's second-largest economy has been struggling to stamp out its worst COVID-19 outbreak in two years with a pla…\">\n",
      "<Tweet id=1518117199612944384 text='RT @SKMorefield: Bill Maher &amp; panel discuss the face mask absurdity &amp; young people being \"indoctrinated\" on Covid:\\n\\n\"Mask really - we\\'re fi…'>\n",
      "<Tweet id=1518117202393767939 text='@lortomo1 Nah, I just stay inside a lot...'>\n",
      "<Tweet id=1518117206974173187 text='@ndtv Covid out of the window phewwww 🤷🤷🤦🤦🤦'>\n",
      "<Tweet id=1518117206432747525 text='@WikiDocJames Boy oh boy you are a drama queen.'>\n",
      "<Tweet id=1518117214318043141 text='RT @nohomelikeplace: You ever snap to and think holy shit, Covid swept through and killed a million people (very likely more), the greatest…'>\n",
      "<Tweet id=1518117214829826050 text='@covid_parent @WikiDocJames I could never be comfortable with having a doctor with extreme paranoia treating me. I would ask for someone with a clear head who can make sensible choices.'>\n",
      "<Tweet id=1518117214309654528 text='RT @lionsdenmother1: QAnon star Cirsten Weldon, who said only idiots get vaccinated, and who called for Tony Fauci to be executed, has died…'>\n",
      "<Tweet id=1518117216784306176 text='RT @JoshuaPotash: It’s wild how Covid has killed a million people in this country, and our government and the rich used it to facilitate th…'>\n"
     ]
    }
   ],
   "source": [
    "from tweepy import StreamingClient, Tweet, StreamRule\n",
    "\n",
    "BEARER_TOKEN = \"AAAAAAAAAAAAAAAAAAAAAIHFbAEAAAAA0oBVG5orLLErnyAqw2po3fOae5w%3D4lgZWoMOyGG496F2aNACoKOdDCaDnxqret6oFPLToE244O6Tx6\"\n",
    "\n",
    "bearer_token = BEARER_TOKEN\n",
    "\n",
    "\n",
    "class TweetListener(StreamingClient):\n",
    "\n",
    "    def on_tweet(self, tweet: Tweet):\n",
    "        print(tweet.__repr__())\n",
    "        \n",
    "    def on_request_error(self, status_code):\n",
    "        print(status_code)\n",
    "    \n",
    "    def on_connection_error(self):\n",
    "        self.disconnect\n",
    "        \n",
    "client = TweetListener(bearer_token)\n",
    "\n",
    "rules = [\n",
    "    StreamRule(value=\"covid lang:en\")\n",
    "    # StreamRule(value=\"\"),\n",
    "    # StreamRule(value=\"bounding_box:[144.3896 -38.5084 145.5459 -37.3127]\")\n",
    "    \n",
    "]\n",
    "\n",
    "\n",
    "resp = client.get_rules()\n",
    "if resp and resp.data:\n",
    "    rule_ids = []\n",
    "    for rule in resp.data:\n",
    "        rule_ids.append(rule.id)\n",
    "    client.delete_rules(rule_ids)\n",
    "    \n",
    "    \n",
    "resp = client.add_rules(rules, dry_run= True)\n",
    "if resp.errors:\n",
    "    raise RuntimeError(resp.errors)\n",
    "\n",
    "resp = client.add_rules(rules)\n",
    "if resp.errors:\n",
    "    raise RuntimeError(resp.errors)\n",
    "\n",
    "print(client.get_rules())\n",
    "\n",
    "try:\n",
    "    client.filter()\n",
    "except KeyboardInterrupt:\n",
    "    client.disconnect()"
   ]
  }
 ],
 "metadata": {
  "interpreter": {
   "hash": "3b80d0b60ba56c11ccd19d51ef14fad63eff0812222428b9e9af2b4faf92e9ac"
  },
  "kernelspec": {
   "display_name": "Python 3.9.12 ('ccc')",
   "language": "python",
   "name": "python3"
  },
  "language_info": {
   "codemirror_mode": {
    "name": "ipython",
    "version": 3
   },
   "file_extension": ".py",
   "mimetype": "text/x-python",
   "name": "python",
   "nbconvert_exporter": "python",
   "pygments_lexer": "ipython3",
   "version": "3.9.12"
  },
  "orig_nbformat": 4
 },
 "nbformat": 4,
 "nbformat_minor": 2
}
