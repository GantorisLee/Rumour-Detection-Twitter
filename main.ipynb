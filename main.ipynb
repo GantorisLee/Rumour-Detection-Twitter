{
 "cells": [
  {
   "cell_type": "markdown",
   "metadata": {},
   "source": [
    "# Preprocessing"
   ]
  },
  {
   "cell_type": "code",
   "execution_count": 40,
   "metadata": {},
   "outputs": [
    {
     "name": "stderr",
     "output_type": "stream",
     "text": [
      "[nltk_data] Downloading package punkt to /home/kan/nltk_data...\n",
      "[nltk_data]   Package punkt is already up-to-date!\n",
      "[nltk_data] Downloading package stopwords to /home/kan/nltk_data...\n",
      "[nltk_data]   Package stopwords is already up-to-date!\n"
     ]
    }
   ],
   "source": [
    "\n",
    "import nltk\n",
    "import string\n",
    "from nltk.stem.porter import PorterStemmer\n",
    "from sklearn.feature_extraction.text import TfidfVectorizer\n",
    "from sklearn.preprocessing import LabelEncoder\n",
    "import pandas as pd\n",
    "import numpy as np\n",
    "import scipy\n",
    "from tensorflow import keras\n",
    "from tensorflow.keras.preprocessing.text import Tokenizer\n",
    "\n",
    "nltk.download('punkt')\n",
    "nltk.download('stopwords')\n",
    "stopwords = nltk.corpus.stopwords.words('english')\n",
    "\n",
    "train_file = \"train.data.txt\"\n",
    "dev_file = \"dev.data.txt\"\n",
    "test_file = \"test.data.txt\"\n",
    "\n",
    "train_data = pd.read_csv('./%s.csv'%train_file,keep_default_na=False)\n",
    "dev_data = pd.read_csv('./%s.csv'%dev_file,keep_default_na=False)\n",
    "test_data = pd.read_csv('./%s.csv'%test_file,keep_default_na=False)\n",
    "\n",
    "def preprocess(pd_data):\n",
    "  data = pd_data.copy()\n",
    "  data['main_tweet'] = data['main_tweet'].fillna('')\n",
    "  data.replace('', np.nan, inplace=True)\n",
    "  data.dropna(subset=['main_tweet'], inplace=True)\n",
    "  data['main_tweet'] = data['main_tweet'].apply(lambda x: x.lower())\n",
    "  data['main_tweet'] = data['main_tweet'].apply(lambda x: x.replace('\\n', ' ')) \n",
    "  return data\n",
    "le = LabelEncoder()\n",
    "train_data = preprocess(train_data)\n",
    "train_label = le.fit_transform(train_data['label'])\n",
    "\n",
    "dev_data = preprocess(dev_data)\n",
    "dev_label = le.transform(dev_data['label'])\n",
    "\n",
    "\n",
    "tokenizer = Tokenizer(oov_token=\"<UNK>\")\n",
    "tokenizer.fit_on_texts(train_data['main_tweet'])\n",
    "\n",
    "# Using BAG OF WORDS\n",
    "train = tokenizer.texts_to_matrix(train_data['main_tweet'], mode=\"tfidf\")\n",
    "dev = tokenizer.texts_to_matrix(dev_data['main_tweet'], mode=\"tfidf\")\n",
    "\n",
    "test = tokenizer.texts_to_matrix(test_data['main_tweet'], mode=\"tfidf\")\n",
    "\n",
    "\n"
   ]
  },
  {
   "cell_type": "code",
   "execution_count": 35,
   "metadata": {},
   "outputs": [
    {
     "name": "stdout",
     "output_type": "stream",
     "text": [
      "Please install GPU version of TF\n",
      "Model: \"sequential_5\"\n",
      "_________________________________________________________________\n",
      " Layer (type)                Output Shape              Param #   \n",
      "=================================================================\n",
      " dense_15 (Dense)            (None, 64)                482496    \n",
      "                                                                 \n",
      " dense_16 (Dense)            (None, 32)                2080      \n",
      "                                                                 \n",
      " dense_17 (Dense)            (None, 1)                 33        \n",
      "                                                                 \n",
      "=================================================================\n",
      "Total params: 484,609\n",
      "Trainable params: 484,609\n",
      "Non-trainable params: 0\n",
      "_________________________________________________________________\n",
      "Epoch 1/20\n",
      "157/157 [==============================] - 1s 3ms/step - loss: 0.3008 - accuracy: 0.8627 - val_loss: 0.1511 - val_accuracy: 0.9553\n",
      "Epoch 2/20\n",
      "157/157 [==============================] - 0s 3ms/step - loss: 0.0151 - accuracy: 0.9987 - val_loss: 0.1245 - val_accuracy: 0.9553\n",
      "Epoch 3/20\n",
      "157/157 [==============================] - 0s 3ms/step - loss: 0.0013 - accuracy: 1.0000 - val_loss: 0.1268 - val_accuracy: 0.9516\n",
      "Epoch 4/20\n",
      "157/157 [==============================] - 0s 3ms/step - loss: 5.9163e-04 - accuracy: 1.0000 - val_loss: 0.1294 - val_accuracy: 0.9497\n",
      "Epoch 5/20\n",
      "157/157 [==============================] - 0s 3ms/step - loss: 3.6100e-04 - accuracy: 1.0000 - val_loss: 0.1320 - val_accuracy: 0.9479\n",
      "Epoch 6/20\n",
      "157/157 [==============================] - 0s 3ms/step - loss: 2.4615e-04 - accuracy: 1.0000 - val_loss: 0.1347 - val_accuracy: 0.9497\n",
      "Epoch 7/20\n",
      "157/157 [==============================] - 0s 3ms/step - loss: 1.7906e-04 - accuracy: 1.0000 - val_loss: 0.1364 - val_accuracy: 0.9497\n",
      "Epoch 8/20\n",
      "157/157 [==============================] - 0s 3ms/step - loss: 1.3503e-04 - accuracy: 1.0000 - val_loss: 0.1384 - val_accuracy: 0.9497\n",
      "Epoch 9/20\n",
      "157/157 [==============================] - 0s 3ms/step - loss: 1.0597e-04 - accuracy: 1.0000 - val_loss: 0.1405 - val_accuracy: 0.9497\n",
      "Epoch 10/20\n",
      "157/157 [==============================] - 0s 3ms/step - loss: 8.4908e-05 - accuracy: 1.0000 - val_loss: 0.1424 - val_accuracy: 0.9479\n",
      "Epoch 11/20\n",
      "157/157 [==============================] - 1s 3ms/step - loss: 6.9162e-05 - accuracy: 1.0000 - val_loss: 0.1439 - val_accuracy: 0.9479\n",
      "Epoch 12/20\n",
      "157/157 [==============================] - 0s 3ms/step - loss: 5.6949e-05 - accuracy: 1.0000 - val_loss: 0.1451 - val_accuracy: 0.9479\n",
      "Epoch 13/20\n",
      "157/157 [==============================] - 0s 3ms/step - loss: 4.7659e-05 - accuracy: 1.0000 - val_loss: 0.1464 - val_accuracy: 0.9479\n",
      "Epoch 14/20\n",
      "157/157 [==============================] - 0s 3ms/step - loss: 4.0030e-05 - accuracy: 1.0000 - val_loss: 0.1475 - val_accuracy: 0.9479\n",
      "Epoch 15/20\n",
      "157/157 [==============================] - 0s 3ms/step - loss: 3.4267e-05 - accuracy: 1.0000 - val_loss: 0.1488 - val_accuracy: 0.9479\n",
      "Epoch 16/20\n",
      "157/157 [==============================] - 0s 3ms/step - loss: 2.9348e-05 - accuracy: 1.0000 - val_loss: 0.1499 - val_accuracy: 0.9479\n",
      "Epoch 17/20\n",
      "157/157 [==============================] - 0s 3ms/step - loss: 2.5327e-05 - accuracy: 1.0000 - val_loss: 0.1510 - val_accuracy: 0.9497\n",
      "Epoch 18/20\n",
      "157/157 [==============================] - 0s 3ms/step - loss: 2.2076e-05 - accuracy: 1.0000 - val_loss: 0.1524 - val_accuracy: 0.9497\n",
      "Epoch 19/20\n",
      "157/157 [==============================] - 0s 3ms/step - loss: 1.9361e-05 - accuracy: 1.0000 - val_loss: 0.1537 - val_accuracy: 0.9497\n",
      "Epoch 20/20\n",
      "157/157 [==============================] - 0s 3ms/step - loss: 1.7019e-05 - accuracy: 1.0000 - val_loss: 0.1549 - val_accuracy: 0.9497\n"
     ]
    }
   ],
   "source": [
    "import tensorflow as tf\n",
    "from tensorflow.keras import losses\n",
    "\n",
    "if tf.test.gpu_device_name(): \n",
    "  print('Default GPU Device:{}'.format(tf.test.gpu_device_name()))\n",
    "\n",
    "else:\n",
    "  print(\"Please install GPU version of TF\")\n",
    "model = tf.keras.Sequential([\n",
    "    tf.keras.layers.Dense(64, activation='relu', input_shape=(train.shape[1],)),\n",
    "    tf.keras.layers.Dense(32, activation='relu'),\n",
    "    tf.keras.layers.Dense(1, activation='sigmoid')\n",
    "])\n",
    "model.compile(loss=losses.BinaryCrossentropy(from_logits=True), optimizer='adam', metrics=['accuracy'])\n",
    "model.summary()\n",
    "\n",
    "history = model.fit(train, train_label, epochs=20, validation_data=(dev, dev_label), batch_size=10)"
   ]
  },
  {
   "cell_type": "code",
   "execution_count": 36,
   "metadata": {},
   "outputs": [
    {
     "data": {
      "image/png": "[encoded data removed]",
      "text/plain": [
       "<Figure size 864x360 with 2 Axes>"
      ]
     },
     "metadata": {
      "needs_background": "light"
     },
     "output_type": "display_data"
    }
   ],
   "source": [
    "import matplotlib.pyplot as plt\n",
    "plt.figure(figsize=(12, 5))\n",
    "plt.subplot(121)\n",
    "plt.plot(history.history['loss'])\n",
    "plt.plot(history.history['val_loss']);\n",
    "plt.xlabel(\"Epochs\")\n",
    "plt.ylabel(\"Loss\")\n",
    "plt.legend(['train loss', 'test loss']);\n",
    "ax = plt.subplot(122)\n",
    "plt.plot(history.history['accuracy'])\n",
    "plt.plot(history.history['val_accuracy'])\n",
    "plt.xlabel(\"Epochs\")\n",
    "plt.ylabel(\"Accuracy\")\n",
    "plt.legend(['train accuracy', 'test accuracy']);"
   ]
  },
  {
   "cell_type": "code",
   "execution_count": 37,
   "metadata": {},
   "outputs": [],
   "source": [
    "prediction = model.predict(test)\n",
    "prediction = (prediction > 0.5).astype(\"int32\")\n",
    "prediction = np.ndarray.flatten(prediction)\n",
    "pd.DataFrame({\"Predicted\":  prediction}).to_csv('submission.csv', index_label=\"Id\")"
   ]
  }
 ],
 "metadata": {
  "interpreter": {
   "hash": "dbfb2b25ac1ebc38ede5fd0f303e7b33cfd01dff818887907e6245d67ff799c1"
  },
  "kernelspec": {
   "display_name": "Python 3.8.12 ('nlp')",
   "language": "python",
   "name": "python3"
  },
  "language_info": {
   "codemirror_mode": {
    "name": "ipython",
    "version": 3
   },
   "file_extension": ".py",
   "mimetype": "text/x-python",
   "name": "python",
   "nbconvert_exporter": "python",
   "pygments_lexer": "ipython3",
   "version": "3.8.5"
  },
  "orig_nbformat": 4
 },
 "nbformat": 4,
 "nbformat_minor": 2
}
